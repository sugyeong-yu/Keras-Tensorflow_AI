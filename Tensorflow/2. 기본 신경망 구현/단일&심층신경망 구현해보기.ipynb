{
 "cells": [
  {
   "cell_type": "markdown",
   "metadata": {},
   "source": [
    "## 1. 간단한 분류모델 구현하기\n",
    "- 포유류와 조류 구분하기 : 털과 날개가 있냐를 기준으로 분류\n",
    "- 털과 날개가 있으면 1 , 없으면 0"
   ]
  },
  {
   "cell_type": "code",
   "execution_count": 3,
   "metadata": {},
   "outputs": [],
   "source": [
    "import numpy as np\n",
    "import tensorflow as tf"
   ]
  },
  {
   "cell_type": "code",
   "execution_count": 4,
   "metadata": {},
   "outputs": [],
   "source": [
    "# 털과 날개에 대한 data\n",
    "# [털,날개] -> [기타,포유류,조류]\n",
    "x_data=np.array([[0,0],[1,0],[1,1],[0,0],[0,0],[0,1]])\n",
    "y_data=np.array([[1,0,0],[0,1,0],[0,0,1],[1,0,0],[1,0,0],[0,0,1]])"
   ]
  },
  {
   "cell_type": "code",
   "execution_count": 6,
   "metadata": {},
   "outputs": [],
   "source": [
    "X=tf.placeholder(tf.float32)\n",
    "Y=tf.placeholder(tf.float32)"
   ]
  },
  {
   "cell_type": "code",
   "execution_count": 7,
   "metadata": {},
   "outputs": [],
   "source": [
    "W=tf.Variable(tf.random_uniform([2,3],-1.,-1.))\n",
    "b=tf.Variable(tf.zeros([3]))"
   ]
  },
  {
   "cell_type": "code",
   "execution_count": 8,
   "metadata": {},
   "outputs": [],
   "source": [
    "L=tf.add(tf.matmul(X,W),b)\n",
    "L=tf.nn.relu(L)"
   ]
  },
  {
   "cell_type": "code",
   "execution_count": 9,
   "metadata": {},
   "outputs": [],
   "source": [
    "model=tf.nn.softmax(L) # 배열내의 결과값을 전체합이 1이 되도록 만들어줌"
   ]
  },
  {
   "cell_type": "code",
   "execution_count": 10,
   "metadata": {},
   "outputs": [],
   "source": [
    "# 손실함수 지정 (교차엔트로피 계산식)\n",
    "cost=tf.reduce_mean(-tf.reduce_sum(Y*tf.log(model),axis=1))"
   ]
  },
  {
   "cell_type": "code",
   "execution_count": 20,
   "metadata": {},
   "outputs": [
    {
     "name": "stdout",
     "output_type": "stream",
     "text": [
      "10 1.0986123\n",
      "20 1.0986123\n",
      "30 1.0986123\n",
      "40 1.0986123\n",
      "50 1.0986123\n",
      "60 1.0986123\n",
      "70 1.0986123\n",
      "80 1.0986123\n",
      "90 1.0986123\n",
      "100 1.0986123\n"
     ]
    }
   ],
   "source": [
    "# 학습\n",
    "## optimizer는 경사하강법\n",
    "optimizer=tf.train.GradientDescentOptimizer(learning_rate=0.01)\n",
    "train_op=optimizer.minimize(cost)\n",
    "\n",
    "# session 초기화\n",
    "init=tf.global_variables_initializer()\n",
    "sess=tf.Session()\n",
    "sess.run(init)\n",
    "\n",
    "for step in range(100):\n",
    "    sess.run(train_op,feed_dict={X: x_data, Y:y_data})\n",
    "    if (step+1)%10 ==0 :\n",
    "        print(step+1,sess.run(cost,feed_dict={X:x_data,Y:y_data}))"
   ]
  },
  {
   "cell_type": "code",
   "execution_count": 21,
   "metadata": {},
   "outputs": [
    {
     "name": "stdout",
     "output_type": "stream",
     "text": [
      "예측값 [0 0 0 0 0 0]\n",
      "실제값 [0 1 2 0 0 2]\n"
     ]
    }
   ],
   "source": [
    "# 학습결과 확인\n",
    "prediction=tf.argmax(model,axis=1) # argmax : 가장큰값의 인덱스(레이블)을 출력해줌\n",
    "target=tf.argmax(Y,axis=1)\n",
    "print('예측값',sess.run(prediction,feed_dict={X:x_data}))\n",
    "print('실제값',sess.run(target,feed_dict={Y:y_data}))"
   ]
  },
  {
   "cell_type": "code",
   "execution_count": 22,
   "metadata": {},
   "outputs": [
    {
     "name": "stdout",
     "output_type": "stream",
     "text": [
      "정확도: 50.00\n"
     ]
    }
   ],
   "source": [
    "# 정확도 출력\n",
    "is_correct=tf.equal(prediction,target)\n",
    "accuracy=tf.reduce_mean(tf.cast(is_correct,tf.float32))\n",
    "print('정확도: %.2f'%sess.run(accuracy*100, feed_dict={X:x_data,Y:y_data}) )"
   ]
  },
  {
   "cell_type": "markdown",
   "metadata": {},
   "source": [
    "## 2. 심층 신경망 구현하기"
   ]
  },
  {
   "cell_type": "code",
   "execution_count": 23,
   "metadata": {},
   "outputs": [],
   "source": [
    "W1=tf.Variable(tf.random_uniform([2,10],-1,1)) # [2,10] : 특징, 은닉층 뉴런수\n",
    "W2=tf.Variable(tf.random_uniform([10,3],-1,1)) # [10,3] : 은닉층 뉴런수, 분류수\n",
    "b1=tf.Variable(tf.zeros([10]))\n",
    "b2=tf.Variable(tf.zeros([3]))"
   ]
  },
  {
   "cell_type": "code",
   "execution_count": 24,
   "metadata": {},
   "outputs": [],
   "source": [
    "L1=tf.add(tf.matmul(X,W1),b1) # 노드 만들기\n",
    "L1=tf.nn.relu(L1)"
   ]
  },
  {
   "cell_type": "code",
   "execution_count": 25,
   "metadata": {},
   "outputs": [],
   "source": [
    "model=tf.add(tf.matmul(L1,W2),b2)"
   ]
  },
  {
   "cell_type": "code",
   "execution_count": 26,
   "metadata": {},
   "outputs": [],
   "source": [
    "# 손실함수 , optimizer \n",
    "# 텐서플로가 기본으로 제공하는 교차 엔트로피 함수를 이용.\n",
    "cost=tf.reduce_mean(tf.nn.softmax_cross_entropy_with_logits_v2(labels=Y,logits=model))\n",
    "optimizer=tf.train.AdamOptimizer(learning_rate=0.01)\n",
    "train_op=optimizer.minimize(cost)"
   ]
  }
 ],
 "metadata": {
  "kernelspec": {
   "display_name": "tensorflow",
   "language": "python",
   "name": "tensorflow"
  },
  "language_info": {
   "codemirror_mode": {
    "name": "ipython",
    "version": 3
   },
   "file_extension": ".py",
   "mimetype": "text/x-python",
   "name": "python",
   "nbconvert_exporter": "python",
   "pygments_lexer": "ipython3",
   "version": "3.7.10"
  }
 },
 "nbformat": 4,
 "nbformat_minor": 4
}
