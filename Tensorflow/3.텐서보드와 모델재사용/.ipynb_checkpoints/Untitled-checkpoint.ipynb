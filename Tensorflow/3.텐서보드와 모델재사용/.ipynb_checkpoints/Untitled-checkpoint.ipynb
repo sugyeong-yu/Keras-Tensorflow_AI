{
 "cells": [
  {
   "cell_type": "markdown",
   "metadata": {},
   "source": [
    "## 1. 학습모델 저장하고 재사용하기\n",
    "- 포유류와 조류를 구분하는 신경망 모델을 이용\n",
    "- 데이터를 csv파일로 분리 뒤 해당 파일을 읽어들여 사용하기"
   ]
  },
  {
   "cell_type": "code",
   "execution_count": 2,
   "metadata": {},
   "outputs": [],
   "source": [
    "import tensorflow as tf\n",
    "import numpy as np"
   ]
  },
  {
   "cell_type": "code",
   "execution_count": 3,
   "metadata": {},
   "outputs": [],
   "source": [
    "x_data=[[0,0],[1,0],[1,1],[0,0],[0,0],[0,1]]\n",
    "y_data=[[1,0,0],[0,1,0],[0,0,1],[1,0,0],[1,0,0],[0,0,1]]"
   ]
  },
  {
   "cell_type": "code",
   "execution_count": 4,
   "metadata": {},
   "outputs": [],
   "source": [
    "# 학습횟수를 카운트하는 변수정의 \n",
    "global_step=tf.Variable(0,trainable=False,name='global_step') #학습횟수 카운트를 위해 trainable이라는 옵션을 줌"
   ]
  },
  {
   "cell_type": "markdown",
   "metadata": {},
   "source": [
    "- 앞장에서보다 계층을 하나 늘리고\n",
    "- 편향은 없이 가중치만 사용한 모델로 만듬"
   ]
  },
  {
   "cell_type": "code",
   "execution_count": 5,
   "metadata": {},
   "outputs": [],
   "source": [
    "X=tf.placeholder(tf.float32)\n",
    "Y=tf.placeholder(tf.float32)\n",
    "\n",
    "W1=tf.Variable(tf.random_uniform([2,10],-1,1))\n",
    "L1=tf.nn.relu(tf.matmul(X,W1))\n",
    "\n",
    "W2=tf.Variable(tf.random_uniform([10,20],-1,1))\n",
    "L2=tf.nn.relu(tf.matmul(L1,W2))\n",
    "\n",
    "W3=tf.Variable(tf.random_uniform([20,3],-1,1))\n",
    "model=tf.matmul(L2,W3)\n",
    "\n",
    "cost=tf.reduce_mean(tf.nn.softmax_cross_entropy_with_logits_v2(labels=Y,logits=model))\n",
    "optimizer=tf.train.AdamOptimizer(learning_rate=0.01)\n",
    "train_op=optimizer.minimize(cost,global_step=global_step)#모델을 최적화 할때마다 global_step의 변수의 값을 1씩 증가함"
   ]
  },
  {
   "cell_type": "code",
   "execution_count": 24,
   "metadata": {},
   "outputs": [],
   "source": [
    "sess=tf.Session()\n",
    "saver=tf.compat.v1.train.Saver(tf.global_variables()) # 앞서 정의한 변수들을 가져오는 함수 (이전에 학습한 결과를 불러와 저장)"
   ]
  },
  {
   "cell_type": "markdown",
   "metadata": {},
   "source": [
    "#### 모델 재사용\n",
    "- 기존에 학습해둔 모델이 있는지 확인 후 있다면 saver.restore함수를 이용해 학습된 값을 불러오고 아니면 변수를 새로 초기화\n",
    "- 학습한 모델을 저장한 파일 = checkpoint file"
   ]
  },
  {
   "cell_type": "code",
   "execution_count": 25,
   "metadata": {},
   "outputs": [],
   "source": [
    "ckpt=tf.train.get_checkpoint_state('./model') # checkpoint file이 있는지 확인 > 있다면 checkpoint state, 없다면 None반환\n",
    "if ckpt and tf.train.checkpoint_exists(ckpt.model_checkpoint_path):\n",
    "    saver.restore(sess,ckpt.model_checkpoint_path)#ck 파일 불러와서 변수에 할당.\n",
    "else:\n",
    "    sess.run(tf.global_variables_initializer()) # 없으면 초기화"
   ]
  },
  {
   "cell_type": "code",
   "execution_count": 26,
   "metadata": {},
   "outputs": [
    {
     "name": "stdout",
     "output_type": "stream",
     "text": [
      "step 1 cost 2.339\n",
      "step 2 cost 2.185\n"
     ]
    },
    {
     "data": {
      "text/plain": [
       "'./model/dnn.ckpt-2'"
      ]
     },
     "execution_count": 26,
     "metadata": {},
     "output_type": "execute_result"
    }
   ],
   "source": [
    "#global_step은 텐서타입의 변수이므로 값을 가져올때 sess.run(global_step)을 이용해야 한다.\n",
    "for step in range(2):\n",
    "    sess.run(train_op,feed_dict={X:x_data,Y:y_data})\n",
    "    \n",
    "    print('step %d'%sess.run(global_step),\n",
    "         'cost %.3f'%sess.run(cost,feed_dict={X:x_data,Y:y_data}))\n",
    "\n",
    "# 최적화 완료 후 학습된 변수들을 지정한 chpt파일에 저장\n",
    "saver.save(sess,'./model/dnn.ckpt',global_step=global_step)"
   ]
  },
  {
   "cell_type": "markdown",
   "metadata": {},
   "source": [
    "## 2. 텐서보드 사용하기"
   ]
  },
  {
   "cell_type": "code",
   "execution_count": null,
   "metadata": {},
   "outputs": [],
   "source": []
  }
 ],
 "metadata": {
  "kernelspec": {
   "display_name": "tensorflow",
   "language": "python",
   "name": "tensorflow"
  },
  "language_info": {
   "codemirror_mode": {
    "name": "ipython",
    "version": 3
   },
   "file_extension": ".py",
   "mimetype": "text/x-python",
   "name": "python",
   "nbconvert_exporter": "python",
   "pygments_lexer": "ipython3",
   "version": "3.7.10"
  }
 },
 "nbformat": 4,
 "nbformat_minor": 4
}
