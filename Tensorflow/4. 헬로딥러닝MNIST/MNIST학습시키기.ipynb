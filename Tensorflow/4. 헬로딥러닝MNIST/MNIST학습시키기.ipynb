{
 "cells": [
  {
   "cell_type": "markdown",
   "metadata": {},
   "source": [
    "## 1. MNIST학습하기\n",
    "- 미니배치를 사용함\n",
    "- 미니배치 : 데이터를 적당한 크기로 잘라서 학습시킴"
   ]
  },
  {
   "cell_type": "code",
   "execution_count": 1,
   "metadata": {},
   "outputs": [
    {
     "name": "stdout",
     "output_type": "stream",
     "text": [
      "WARNING:tensorflow:From <ipython-input-1-8c03f94e4e73>:3: read_data_sets (from tensorflow.contrib.learn.python.learn.datasets.mnist) is deprecated and will be removed in a future version.\n",
      "Instructions for updating:\n",
      "Please use alternatives such as official/mnist/dataset.py from tensorflow/models.\n",
      "WARNING:tensorflow:From C:\\Users\\user\\anaconda3\\envs\\tensorflow\\lib\\site-packages\\tensorflow_core\\contrib\\learn\\python\\learn\\datasets\\mnist.py:260: maybe_download (from tensorflow.contrib.learn.python.learn.datasets.base) is deprecated and will be removed in a future version.\n",
      "Instructions for updating:\n",
      "Please write your own downloading logic.\n",
      "WARNING:tensorflow:From C:\\Users\\user\\anaconda3\\envs\\tensorflow\\lib\\site-packages\\tensorflow_core\\contrib\\learn\\python\\learn\\datasets\\base.py:252: _internal_retry.<locals>.wrap.<locals>.wrapped_fn (from tensorflow.contrib.learn.python.learn.datasets.base) is deprecated and will be removed in a future version.\n",
      "Instructions for updating:\n",
      "Please use urllib or similar directly.\n",
      "Successfully downloaded train-images-idx3-ubyte.gz 9912422 bytes.\n",
      "WARNING:tensorflow:From C:\\Users\\user\\anaconda3\\envs\\tensorflow\\lib\\site-packages\\tensorflow_core\\contrib\\learn\\python\\learn\\datasets\\mnist.py:262: extract_images (from tensorflow.contrib.learn.python.learn.datasets.mnist) is deprecated and will be removed in a future version.\n",
      "Instructions for updating:\n",
      "Please use tf.data to implement this functionality.\n",
      "Extracting ./mnist/data/train-images-idx3-ubyte.gz\n",
      "Successfully downloaded train-labels-idx1-ubyte.gz 28881 bytes.\n",
      "WARNING:tensorflow:From C:\\Users\\user\\anaconda3\\envs\\tensorflow\\lib\\site-packages\\tensorflow_core\\contrib\\learn\\python\\learn\\datasets\\mnist.py:267: extract_labels (from tensorflow.contrib.learn.python.learn.datasets.mnist) is deprecated and will be removed in a future version.\n",
      "Instructions for updating:\n",
      "Please use tf.data to implement this functionality.\n",
      "Extracting ./mnist/data/train-labels-idx1-ubyte.gz\n",
      "WARNING:tensorflow:From C:\\Users\\user\\anaconda3\\envs\\tensorflow\\lib\\site-packages\\tensorflow_core\\contrib\\learn\\python\\learn\\datasets\\mnist.py:110: dense_to_one_hot (from tensorflow.contrib.learn.python.learn.datasets.mnist) is deprecated and will be removed in a future version.\n",
      "Instructions for updating:\n",
      "Please use tf.one_hot on tensors.\n",
      "Successfully downloaded t10k-images-idx3-ubyte.gz 1648877 bytes.\n",
      "Extracting ./mnist/data/t10k-images-idx3-ubyte.gz\n",
      "Successfully downloaded t10k-labels-idx1-ubyte.gz 4542 bytes.\n",
      "Extracting ./mnist/data/t10k-labels-idx1-ubyte.gz\n",
      "WARNING:tensorflow:From C:\\Users\\user\\anaconda3\\envs\\tensorflow\\lib\\site-packages\\tensorflow_core\\contrib\\learn\\python\\learn\\datasets\\mnist.py:290: DataSet.__init__ (from tensorflow.contrib.learn.python.learn.datasets.mnist) is deprecated and will be removed in a future version.\n",
      "Instructions for updating:\n",
      "Please use alternatives such as official/mnist/dataset.py from tensorflow/models.\n"
     ]
    }
   ],
   "source": [
    "import tensorflow as tf\n",
    "from tensorflow.examples.tutorials.mnist import input_data\n",
    "mnist=input_data.read_data_sets(\"./mnist/data/\",one_hot=True)"
   ]
  },
  {
   "cell_type": "code",
   "execution_count": 2,
   "metadata": {},
   "outputs": [],
   "source": [
    "X=tf.placeholder(tf.float32,[None,784]) # None은 배치사이즈 , None으로 설정시 텐서플로가 알아서 계산해서 적용\n",
    "Y=tf.placeholder(tf.float32,[None,10])"
   ]
  },
  {
   "cell_type": "code",
   "execution_count": 3,
   "metadata": {},
   "outputs": [],
   "source": [
    "W1=tf.Variable(tf.random_normal([784,256],stddev=0.01)) # 표준편차가 0.01인 정규분포를 가지는 임의의값으로 뉴런을 초기화\n",
    "L1=tf.nn.relu(tf.matmul(X,W1))\n",
    "\n",
    "W2=tf.Variable(tf.random_normal([256,256],stddev=0.01))\n",
    "L2=tf.nn.relu(tf.matmul(L1,W2))\n",
    "\n",
    "W3=tf.Variable(tf.random_normal([256,10],stddev=0.01))\n",
    "model=tf.matmul(L2,W3)"
   ]
  },
  {
   "cell_type": "code",
   "execution_count": 4,
   "metadata": {},
   "outputs": [],
   "source": [
    "cost=tf.reduce_mean(tf.nn.softmax_cross_entropy_with_logits_v2(logits=model,labels=Y))\n",
    "optimizer=tf.train.AdamOptimizer(0.001).minimize(cost)"
   ]
  },
  {
   "cell_type": "code",
   "execution_count": 5,
   "metadata": {},
   "outputs": [],
   "source": [
    "init=tf.global_variables_initializer() # 가중치 초기화\n",
    "sess=tf.Session()\n",
    "sess.run(init)"
   ]
  },
  {
   "cell_type": "code",
   "execution_count": 13,
   "metadata": {},
   "outputs": [
    {
     "name": "stdout",
     "output_type": "stream",
     "text": [
      "Epoch: 0001 Avg cost:  0.006\n",
      "Epoch: 0002 Avg cost:  0.005\n",
      "Epoch: 0003 Avg cost:  0.004\n",
      "Epoch: 0004 Avg cost:  0.001\n",
      "Epoch: 0005 Avg cost:  0.004\n",
      "Epoch: 0006 Avg cost:  0.011\n",
      "Epoch: 0007 Avg cost:  0.006\n",
      "Epoch: 0008 Avg cost:  0.002\n",
      "Epoch: 0009 Avg cost:  0.002\n",
      "Epoch: 0010 Avg cost:  0.004\n",
      "Epoch: 0011 Avg cost:  0.005\n",
      "Epoch: 0012 Avg cost:  0.003\n",
      "Epoch: 0013 Avg cost:  0.005\n",
      "Epoch: 0014 Avg cost:  0.007\n",
      "Epoch: 0015 Avg cost:  0.001\n",
      "predict- [7 2 1 ... 4 5 6] target- Tensor(\"ArgMax_4:0\", shape=(10000,), dtype=int64)\n",
      "정확도: 0.9828\n"
     ]
    }
   ],
   "source": [
    "#학습진행\n",
    "batch_size=100\n",
    "total_batch=int(mnist.train.num_examples/batch_size) # 데이터수/배치크기 = 미니배치크기\n",
    "for epoch in range(15):\n",
    "    total_cost=0\n",
    "    for i in range(total_batch):\n",
    "        batch_x,batch_y=mnist.train.next_batch(batch_size)\n",
    "        \n",
    "        _,cost_val=sess.run([optimizer,cost],feed_dict={X:batch_x,Y:batch_y})\n",
    "        \n",
    "        # 모델출력값 확인\n",
    "        #print(\"result: \",sess.run(model,feed_dict={X:batch_x}))\n",
    "        \n",
    "        total_cost+=cost_val\n",
    "    print('Epoch:','%04d'%(epoch+1),\n",
    "        'Avg cost: ','{:.3f}'.format(total_cost/total_batch))\n",
    "\n",
    "# test\n",
    "print(\"predict-\",sess.run(tf.argmax(model,1),feed_dict={X:mnist.test.images}),\"target-\",tf.argmax(mnist.test.labels,1))\n",
    "is_correct=tf.equal(tf.argmax(model,1),tf.argmax(Y,1))\n",
    "accuracy=tf.reduce_mean(tf.cast(is_correct,tf.float32))\n",
    "print('정확도:',sess.run(accuracy,feed_dict={X:mnist.test.images,Y:mnist.test.labels}))"
   ]
  },
  {
   "cell_type": "markdown",
   "metadata": {},
   "source": [
    "## 2. Dropout 사용해보기\n",
    "- Dropout은 과적합을 방지하기 위한 기법 중 하나이다.\n",
    "- 학습 시 전체 신경망 중 일부만을 사용하도록 하는 것. (일부 뉴런을 제거)\n",
    "- 학습 시 일부 뉴런을 학습시키지 않기 때문에 신경망의 충분한 학습시간이 조금 더 오래걸린다.\n",
    "\n",
    "- **주의해야할 점**\n",
    "    - 학습이 끝난 후 예측시에는 신경망 전체를 사용하도록 해야한다."
   ]
  },
  {
   "cell_type": "code",
   "execution_count": 14,
   "metadata": {},
   "outputs": [
    {
     "name": "stdout",
     "output_type": "stream",
     "text": [
      "WARNING:tensorflow:From <ipython-input-14-3be115a8fa6e>:3: calling dropout (from tensorflow.python.ops.nn_ops) with keep_prob is deprecated and will be removed in a future version.\n",
      "Instructions for updating:\n",
      "Please use `rate` instead of `keep_prob`. Rate should be set to `rate = 1 - keep_prob`.\n"
     ]
    }
   ],
   "source": [
    "W1=tf.Variable(tf.random_normal([784,256],stddev=0.01))\n",
    "L1=tf.nn.relu(tf.matmul(X,W1))\n",
    "L1=tf.nn.dropout(L1,0.8)#80%의 뉴런만 사용하겠다는 것\n",
    "\n",
    "W2=tf.Variable(tf.random_normal([256,256],stddev=0.01))\n",
    "L2=tf.nn.relu(tf.matmul(L1,W2))\n",
    "L2=tf.nn.dropout(L2,0.8)"
   ]
  }
 ],
 "metadata": {
  "kernelspec": {
   "display_name": "tensorflow",
   "language": "python",
   "name": "tensorflow"
  },
  "language_info": {
   "codemirror_mode": {
    "name": "ipython",
    "version": 3
   },
   "file_extension": ".py",
   "mimetype": "text/x-python",
   "name": "python",
   "nbconvert_exporter": "python",
   "pygments_lexer": "ipython3",
   "version": "3.7.10"
  }
 },
 "nbformat": 4,
 "nbformat_minor": 4
}
