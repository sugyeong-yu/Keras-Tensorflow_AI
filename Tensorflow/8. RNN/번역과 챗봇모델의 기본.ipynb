{
 "cells": [
  {
   "cell_type": "markdown",
   "metadata": {},
   "source": [
    "## 1. MNIST를 RNN으로\n",
    "- RNN은 cell을 여러개 중첩하여 심층 신경망을 만든다.\n",
    "- 따라서 학습 데이터를 단계별로 구분하여 입력해야한다.\n",
    "- 사람은 글씨를 위에서 아래로 쓰는 경향 > 가로 한줄의 28픽셀을 한단계의 입력값으로, (위에서 아래로 이동)"
   ]
  },
  {
   "cell_type": "code",
   "execution_count": 2,
   "metadata": {},
   "outputs": [
    {
     "name": "stdout",
     "output_type": "stream",
     "text": [
      "Extracting ./mnist/data/train-images-idx3-ubyte.gz\n",
      "Extracting ./mnist/data/train-labels-idx1-ubyte.gz\n",
      "Extracting ./mnist/data/t10k-images-idx3-ubyte.gz\n",
      "Extracting ./mnist/data/t10k-labels-idx1-ubyte.gz\n"
     ]
    }
   ],
   "source": [
    "import tensorflow as tf\n",
    "\n",
    "from tensorflow.examples.tutorials.mnist import input_data\n",
    "mnist=input_data.read_data_sets(\"./mnist/data/\",one_hot=True)\n",
    "\n",
    "learnint_rate=0.001\n",
    "total_epoch=30\n",
    "batch_size=128\n",
    "n_input=28\n",
    "n_step=28\n",
    "n_hidden=128\n",
    "n_class=10\n",
    "\n",
    "X=tf.placeholder(tf.float32,[None,n_step,n_input])\n",
    "Y=tf.placeholder(tf.float32,[None,n_class])\n",
    "W=tf.Variable(tf.random_normal([n_hidden,n_class]))\n",
    "Y=tf.Variable(tf.random_normal([n_class]))"
   ]
  },
  {
   "cell_type": "markdown",
   "metadata": {},
   "source": [
    "- Cell 생성에는 tensorflow에서 제공하는 BasicRNNCell, BasicLSTMCell, GRUCell 등이 있다.\n",
    "- dynamic_rnn 함수를 이용해 RNN신경망을 완성할 수 있다."
   ]
  },
  {
   "cell_type": "code",
   "execution_count": 3,
   "metadata": {},
   "outputs": [
    {
     "name": "stdout",
     "output_type": "stream",
     "text": [
      "WARNING:tensorflow:From <ipython-input-3-2fa67de4bebc>:3: BasicRNNCell.__init__ (from tensorflow.python.ops.rnn_cell_impl) is deprecated and will be removed in a future version.\n",
      "Instructions for updating:\n",
      "This class is equivalent as tf.keras.layers.SimpleRNNCell, and will be replaced by that in Tensorflow 2.0.\n"
     ]
    }
   ],
   "source": [
    "# n_hidden개의 출력값을 갖는 RNN 셀을 생성한다.\n",
    "# 직접 구현하려면 복잡한 계산을 거쳐야 하나 텐서플로는 다음처럼 매우 간단하게 사용할 수 있다.\n",
    "cell=tf.nn.rnn_cell.BasicRNNCell(n_hidden)"
   ]
  },
  {
   "cell_type": "code",
   "execution_count": 4,
   "metadata": {},
   "outputs": [
    {
     "name": "stdout",
     "output_type": "stream",
     "text": [
      "WARNING:tensorflow:From <ipython-input-4-311faa07a9ad>:1: dynamic_rnn (from tensorflow.python.ops.rnn) is deprecated and will be removed in a future version.\n",
      "Instructions for updating:\n",
      "Please use `keras.layers.RNN(cell)`, which is equivalent to this API\n",
      "WARNING:tensorflow:From C:\\Users\\user\\anaconda3\\envs\\tensorflow\\lib\\site-packages\\tensorflow_core\\python\\ops\\rnn_cell_impl.py:456: Layer.add_variable (from tensorflow.python.keras.engine.base_layer) is deprecated and will be removed in a future version.\n",
      "Instructions for updating:\n",
      "Please use `layer.add_weight` method instead.\n",
      "WARNING:tensorflow:From C:\\Users\\user\\anaconda3\\envs\\tensorflow\\lib\\site-packages\\tensorflow_core\\python\\ops\\rnn_cell_impl.py:460: calling Zeros.__init__ (from tensorflow.python.ops.init_ops) with dtype is deprecated and will be removed in a future version.\n",
      "Instructions for updating:\n",
      "Call initializer instance with the dtype argument instead of passing it to the constructor\n"
     ]
    }
   ],
   "source": [
    "outputs,states=tf.nn.dynamic_rnn(cell,X,dtype=tf.float32) # 셀의 output과 상태"
   ]
  },
  {
   "cell_type": "code",
   "execution_count": null,
   "metadata": {},
   "outputs": [],
   "source": [
    "states=tf.zeros(batch_size)\n",
    "for i in range(n_step):\n",
    "    outputs,states=cell(X[[:,i]],states) # 이전 cell의 결과와 state를 현재 cell의 입력으로 넣음. \n",
    "## 이 반복과정은 고려해야할것이 많음 >> 따라서 우리는 이과정대신 dynamic rnn을 사용할것."
   ]
  },
  {
   "cell_type": "markdown",
   "metadata": {},
   "source": [
    "- RNN에서 나온 출력값으로 최종 출력값 만들기\n",
    "- 결과값을 원-핫 인코딩 형태로 만들 것이기 때문에 손실함수로 tf.nn.softmax_cross_entropy_with_logits_v2 사용\n",
    "- 이 함수를 사용하기 위해서는 최종 결과값이 실측값 Y와 동일한 [batchsize,n_class] 여야한다."
   ]
  },
  {
   "cell_type": "code",
   "execution_count": null,
   "metadata": {},
   "outputs": [],
   "source": [
    "# 결과값과 형태 맞춰주기\n"
   ]
  }
 ],
 "metadata": {
  "kernelspec": {
   "display_name": "tensorflow",
   "language": "python",
   "name": "tensorflow"
  },
  "language_info": {
   "codemirror_mode": {
    "name": "ipython",
    "version": 3
   },
   "file_extension": ".py",
   "mimetype": "text/x-python",
   "name": "python",
   "nbconvert_exporter": "python",
   "pygments_lexer": "ipython3",
   "version": "3.7.10"
  }
 },
 "nbformat": 4,
 "nbformat_minor": 4
}
